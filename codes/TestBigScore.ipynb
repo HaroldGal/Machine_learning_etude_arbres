{
  "nbformat": 4,
  "nbformat_minor": 0,
  "metadata": {
    "colab": {
      "name": "TestBigScore.ipynb",
      "version": "0.3.2",
      "provenance": [],
      "collapsed_sections": []
    },
    "kernelspec": {
      "name": "python3",
      "display_name": "Python 3"
    }
  },
  "cells": [
    {
      "metadata": {
        "id": "hiRsUdfaRYoU",
        "colab_type": "code",
        "colab": {}
      },
      "cell_type": "code",
      "source": [
        "from sklearn.datasets import fetch_covtype\n",
        "import numpy as np \n",
        "import pandas as pd \n",
        "from sklearn.utils import shuffle\n"
      ],
      "execution_count": 0,
      "outputs": []
    },
    {
      "metadata": {
        "id": "cwI8IQifRfz2",
        "colab_type": "code",
        "colab": {}
      },
      "cell_type": "code",
      "source": [
        "nom_column = [\"Altitude\",\"Orientation\",\"Pente\",\"Distance_he\",\"Distance_ve\",\"Distance_hr\",\"Ombrage_9\",\"Ombrage_12\",\"Ombrage_15\",\"Distance_hf\"]\n",
        "j = [4,40]\n",
        "for i in j :\n",
        "\tif(i == 4):\n",
        "\t\tfor x in range(4):\n",
        "\t\t\tnom_column.append(\"Wilderness\")\n",
        "\tif(i == 40):\n",
        "\t\tfor x in range(40):\n",
        "\t\t\tnom_column.append(\"Type_sol\")"
      ],
      "execution_count": 0,
      "outputs": []
    },
    {
      "metadata": {
        "id": "NMeuWGHTRiLW",
        "colab_type": "code",
        "outputId": "0bab3d92-5d39-420c-b313-8583bc987698",
        "colab": {
          "base_uri": "https://localhost:8080/",
          "height": 52
        }
      },
      "cell_type": "code",
      "source": [
        "#upload data\n",
        "dataset  = fetch_covtype()\n",
        "\n",
        "data = pd.DataFrame(dataset.data,columns = nom_column)\n",
        "data[\"Classe\"]= dataset.target\n",
        "\n",
        "print(\"Data download\")"
      ],
      "execution_count": 3,
      "outputs": [
        {
          "output_type": "stream",
          "text": [
            "Downloading https://ndownloader.figshare.com/files/5976039\n"
          ],
          "name": "stderr"
        },
        {
          "output_type": "stream",
          "text": [
            "Data download\n"
          ],
          "name": "stdout"
        }
      ]
    },
    {
      "metadata": {
        "id": "oixhMusHSIcL",
        "colab_type": "code",
        "colab": {}
      },
      "cell_type": "code",
      "source": [
        "taille = len(data)//10\n",
        "dataset = shuffle(data, n_samples=taille, random_state=1)"
      ],
      "execution_count": 0,
      "outputs": []
    },
    {
      "metadata": {
        "id": "kpRzOPZpVCnf",
        "colab_type": "code",
        "colab": {}
      },
      "cell_type": "code",
      "source": [
        "variables = dataset.columns\n",
        "tmp = len(variables)-1\n",
        "data_train = dataset[variables]\n",
        "data_train = shuffle(data_train)\n",
        "X_train = data_train.iloc[:,0:tmp]\n",
        "x_train = X_train.values\n",
        "y_train = data_train.Classe"
      ],
      "execution_count": 0,
      "outputs": []
    },
    {
      "metadata": {
        "id": "TXcPtuGMXWXs",
        "colab_type": "code",
        "colab": {}
      },
      "cell_type": "code",
      "source": [
        "from sklearn.neighbors import KNeighborsClassifier\n",
        "modelKNN = KNeighborsClassifier(n_neighbors=3).fit(x_train,y_train)\n"
      ],
      "execution_count": 0,
      "outputs": []
    },
    {
      "metadata": {
        "id": "3LVuT0I1HzZd",
        "colab_type": "code",
        "colab": {
          "base_uri": "https://localhost:8080/",
          "height": 52
        },
        "outputId": "e657da8f-80a5-4894-da78-32fc3034ef4c"
      },
      "cell_type": "code",
      "source": [
        "from sklearn.linear_model import LogisticRegression\n",
        "modelLogReg = LogisticRegression(solver=\"lbfgs\",max_iter=1000, multi_class=\"multinomial\").fit(x_train,y_train)"
      ],
      "execution_count": 7,
      "outputs": [
        {
          "output_type": "stream",
          "text": [
            "/usr/local/lib/python3.6/dist-packages/sklearn/linear_model/logistic.py:758: ConvergenceWarning: lbfgs failed to converge. Increase the number of iterations.\n",
            "  \"of iterations.\", ConvergenceWarning)\n"
          ],
          "name": "stderr"
        }
      ]
    },
    {
      "metadata": {
        "id": "NyCUjUoPK36J",
        "colab_type": "code",
        "outputId": "3e9dabcc-aafd-4b86-9f4f-8bc56bf01516",
        "colab": {
          "base_uri": "https://localhost:8080/",
          "height": 139
        }
      },
      "cell_type": "code",
      "source": [
        "from sklearn.neural_network import MLPClassifier\n",
        "modelMLP = MLPClassifier(solver='lbfgs', alpha=1e-5,\n",
        "                    hidden_layer_sizes=(15,10,12,7), random_state=123)\n",
        "\n",
        "modelMLP.fit(x_train, y_train)  "
      ],
      "execution_count": 8,
      "outputs": [
        {
          "output_type": "execute_result",
          "data": {
            "text/plain": [
              "MLPClassifier(activation='relu', alpha=1e-05, batch_size='auto', beta_1=0.9,\n",
              "       beta_2=0.999, early_stopping=False, epsilon=1e-08,\n",
              "       hidden_layer_sizes=(15, 10, 12, 7), learning_rate='constant',\n",
              "       learning_rate_init=0.001, max_iter=200, momentum=0.9,\n",
              "       n_iter_no_change=10, nesterovs_momentum=True, power_t=0.5,\n",
              "       random_state=123, shuffle=True, solver='lbfgs', tol=0.0001,\n",
              "       validation_fraction=0.1, verbose=False, warm_start=False)"
            ]
          },
          "metadata": {
            "tags": []
          },
          "execution_count": 8
        }
      ]
    },
    {
      "metadata": {
        "id": "IyMMN-OYG4sn",
        "colab_type": "code",
        "colab": {}
      },
      "cell_type": "code",
      "source": [
        "from sklearn import tree\n",
        "modelTree = tree.DecisionTreeClassifier(random_state=123)\n",
        "modelTree = modelTree.fit(x_train, y_train)"
      ],
      "execution_count": 0,
      "outputs": []
    },
    {
      "metadata": {
        "id": "8Ymfn9XUYKWg",
        "colab_type": "code",
        "colab": {}
      },
      "cell_type": "code",
      "source": [
        "data_test = data[variables]\n",
        "data_test = shuffle(data_test, n_samples=20000, random_state=2)\n",
        "X_test = data_test.iloc[:,0:tmp]\n",
        "x_test = X_test.values\n",
        "y_test = data_test.Classe"
      ],
      "execution_count": 0,
      "outputs": []
    },
    {
      "metadata": {
        "id": "w17kjF-bZQvW",
        "colab_type": "code",
        "colab": {
          "base_uri": "https://localhost:8080/",
          "height": 156
        },
        "outputId": "7d17b15a-50f8-40d3-83a7-853c4456bcc5"
      },
      "cell_type": "code",
      "source": [
        "print(\"KNN Accuracy: %0.2f \" % (modelKNN.score(x_test,y_test)), end=\"   \")\n",
        "print(\"LogReg Accuracy: %0.2f \" % (modelLogReg.score(x_test,y_test)), end=\"   \")\n",
        "print(\"MLP Accuracy: %0.2f \" % (modelMLP.score(x_test,y_test)), end=\"   \")\n",
        "print(\"Tree Accuracy: %0.2f \" % (modelTree.score(x_test,y_test)))\n",
        "\n",
        "\n",
        "for i in range(1,8):\n",
        "  data_classe_i = data[data.Classe==int(i)]\n",
        "\n",
        "  data_classe_i = shuffle(data_classe_i, n_samples=2000, random_state=3)\n",
        "  data_classe_i = data_classe_i[variables]\n",
        "  X_test_i = data_classe_i.iloc[:,0:tmp]\n",
        "  x_test_i = X_test_i.values\n",
        "  y_test_i = data_classe_i.Classe\n",
        "  print(\"Classe %d KNN Accuracy: %0.2f \" % (i, modelKNN.score(x_test_i,y_test_i)), end=\"   \")\n",
        "  print(\"Classe %d LogReg Accuracy: %0.2f \" % (i, modelLogReg.score(x_test_i,y_test_i)), end=\"   \")\n",
        "  print(\"Classe %d MLP Accuracy: %0.2f \" % (i, modelMLP.score(x_test_i,y_test_i)),end=\"   \")\n",
        "  print(\"Classe %d Tree Accuracy: %0.2f \" % (i, modelTree.score(x_test_i,y_test_i)))"
      ],
      "execution_count": 11,
      "outputs": [
        {
          "output_type": "stream",
          "text": [
            "KNN Accuracy: 0.90    LogReg Accuracy: 0.69    MLP Accuracy: 0.49    Tree Accuracy: 0.85 \n",
            "Classe 1 KNN Accuracy: 0.90    Classe 1 LogReg Accuracy: 0.70    Classe 1 MLP Accuracy: 0.00    Classe 1 Tree Accuracy: 0.84 \n",
            "Classe 2 KNN Accuracy: 0.91    Classe 2 LogReg Accuracy: 0.79    Classe 2 MLP Accuracy: 1.00    Classe 2 Tree Accuracy: 0.87 \n",
            "Classe 3 KNN Accuracy: 0.88    Classe 3 LogReg Accuracy: 0.64    Classe 3 MLP Accuracy: 0.00    Classe 3 Tree Accuracy: 0.84 \n",
            "Classe 4 KNN Accuracy: 0.57    Classe 4 LogReg Accuracy: 0.26    Classe 4 MLP Accuracy: 0.00    Classe 4 Tree Accuracy: 0.69 \n",
            "Classe 5 KNN Accuracy: 0.69    Classe 5 LogReg Accuracy: 0.00    Classe 5 MLP Accuracy: 0.00    Classe 5 Tree Accuracy: 0.65 \n",
            "Classe 6 KNN Accuracy: 0.78    Classe 6 LogReg Accuracy: 0.05    Classe 6 MLP Accuracy: 0.00    Classe 6 Tree Accuracy: 0.72 \n",
            "Classe 7 KNN Accuracy: 0.90    Classe 7 LogReg Accuracy: 0.03    Classe 7 MLP Accuracy: 0.00    Classe 7 Tree Accuracy: 0.81 \n"
          ],
          "name": "stdout"
        }
      ]
    }
  ]
}