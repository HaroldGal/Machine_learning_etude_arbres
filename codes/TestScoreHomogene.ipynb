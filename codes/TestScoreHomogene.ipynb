{
  "nbformat": 4,
  "nbformat_minor": 0,
  "metadata": {
    "colab": {
      "name": "TestScoreHomogene.ipynb",
      "version": "0.3.2",
      "provenance": [],
      "collapsed_sections": []
    },
    "kernelspec": {
      "name": "python3",
      "display_name": "Python 3"
    }
  },
  "cells": [
    {
      "metadata": {
        "id": "hiRsUdfaRYoU",
        "colab_type": "code",
        "colab": {}
      },
      "cell_type": "code",
      "source": [
        "from sklearn.datasets import fetch_covtype\n",
        "import numpy as np \n",
        "import pandas as pd \n",
        "from sklearn.utils import shuffle\n",
        "from sklearn.utils import resample\n",
        "import matplotlib.pyplot as plt\n",
        "\n",
        "import seaborn as sns\n",
        "\n"
      ],
      "execution_count": 0,
      "outputs": []
    },
    {
      "metadata": {
        "id": "cwI8IQifRfz2",
        "colab_type": "code",
        "colab": {}
      },
      "cell_type": "code",
      "source": [
        "nom_column = [\"Altitude\",\"Orientation\",\"Pente\",\"Distance_he\",\"Distance_ve\",\"Distance_hr\",\"Ombrage_9\",\"Ombrage_12\",\"Ombrage_15\",\"Distance_hf\"]\n",
        "j = [4,40]\n",
        "for i in j :\n",
        "\tif(i == 4):\n",
        "\t\tfor x in range(4):\n",
        "\t\t\tnom_column.append(\"Wilderness\")\n",
        "\tif(i == 40):\n",
        "\t\tfor x in range(40):\n",
        "\t\t\tnom_column.append(\"Type_sol\")"
      ],
      "execution_count": 0,
      "outputs": []
    },
    {
      "metadata": {
        "id": "NMeuWGHTRiLW",
        "colab_type": "code",
        "outputId": "285e777c-5386-494e-fe07-4639361e349c",
        "colab": {
          "base_uri": "https://localhost:8080/",
          "height": 34
        }
      },
      "cell_type": "code",
      "source": [
        "#upload data\n",
        "dataset  = fetch_covtype()\n",
        "\n",
        "data = pd.DataFrame(dataset.data,columns = nom_column)\n",
        "data[\"Classe\"]= dataset.target\n",
        "\n",
        "print(\"Data download\")"
      ],
      "execution_count": 3,
      "outputs": [
        {
          "output_type": "stream",
          "text": [
            "Data download\n"
          ],
          "name": "stdout"
        }
      ]
    },
    {
      "metadata": {
        "id": "WBg8_bsitk31",
        "colab_type": "code",
        "outputId": "97d8bb3d-ff16-478e-c173-248a3450d7e2",
        "colab": {
          "base_uri": "https://localhost:8080/",
          "height": 34
        }
      },
      "cell_type": "code",
      "source": [
        "size_tableau = [33,38,8,2,5,8,6]\n",
        "\n",
        "taille = len(data)//1000\n",
        "\n",
        "#size_tableau = [100//7 for i in range(7) ] # décommenter pour avoir nos test avec classes équilibrées\n",
        "\n",
        "print(str(sum(size_tableau)/10.0) + \" % des données de base uilisées\")\n",
        "dataset = shuffle(data, n_samples=0)\n",
        "for i, size in enumerate(size_tableau):\n",
        "      if len(data[data.Classe==int(i+1)]) >= size*taille : \n",
        "        dataset = dataset.append(shuffle(data[data.Classe==int(i+1)], n_samples=size*taille, random_state=12))\n",
        "      else :\n",
        "        dataset = dataset.append(resample(data[data.Classe==int(i+1)], \n",
        "                                 replace=True,    \n",
        "                                 n_samples=size*taille,  \n",
        "                                 random_state=123))  "
      ],
      "execution_count": 4,
      "outputs": [
        {
          "output_type": "stream",
          "text": [
            "10.0 % des données de base uilisées\n"
          ],
          "name": "stdout"
        }
      ]
    },
    {
      "metadata": {
        "colab_type": "code",
        "id": "nwkYDWiW_mKl",
        "outputId": "abc55528-2b81-4b60-9fad-da59c049286c",
        "colab": {
          "base_uri": "https://localhost:8080/",
          "height": 411
        }
      },
      "cell_type": "code",
      "source": [
        "dataset = dataset.reset_index()\n",
        "\n",
        "classe_dataset = dataset[\"Classe\"].value_counts()\n",
        "\n",
        "barplot=sns.barplot(classe_dataset.index,classe_dataset.values.tolist())#,palette=\"rocket\")\n",
        "barplot.set_xlabel(\"Classe\")\n",
        "barplot.set_ylabel(\"Taille\")\n",
        "barplot.set_title(\"Nombre d'individus de chaque classe\")\n",
        "plt.show()"
      ],
      "execution_count": 5,
      "outputs": [
        {
          "output_type": "stream",
          "text": [
            "/usr/local/lib/python3.6/dist-packages/seaborn/categorical.py:1428: FutureWarning: remove_na is deprecated and is a private function. Do not use.\n",
            "  stat_data = remove_na(group_data)\n"
          ],
          "name": "stderr"
        },
        {
          "output_type": "display_data",
          "data": {
            "image/png": "[encoded data removed]",
            "text/plain": [
              "<matplotlib.figure.Figure at 0x7f144788a780>"
            ]
          },
          "metadata": {
            "tags": []
          }
        }
      ]
    },
    {
      "metadata": {
        "id": "kpRzOPZpVCnf",
        "colab_type": "code",
        "outputId": "8b46237d-b4bf-4de7-c315-2a81aac5b89d",
        "colab": {
          "base_uri": "https://localhost:8080/",
          "height": 34
        }
      },
      "cell_type": "code",
      "source": [
        "variables = dataset.columns\n",
        "tmp = len(variables)-1\n",
        "data_train = dataset[variables[1:]]\n",
        "data_train = shuffle(data_train, random_state=123)\n",
        "X_train = data_train.iloc[:,1:tmp]\n",
        "x_train = X_train.values\n",
        "y_train = data_train.Classe\n",
        "print(tmp)"
      ],
      "execution_count": 6,
      "outputs": [
        {
          "output_type": "stream",
          "text": [
            "55\n"
          ],
          "name": "stdout"
        }
      ]
    },
    {
      "metadata": {
        "id": "TXcPtuGMXWXs",
        "colab_type": "code",
        "colab": {}
      },
      "cell_type": "code",
      "source": [
        "from sklearn.neighbors import KNeighborsClassifier\n",
        "#try 5\n",
        "modelKNN = KNeighborsClassifier(n_neighbors=3)\n",
        "modelKNN = modelKNN.fit(x_train,y_train)\n"
      ],
      "execution_count": 0,
      "outputs": []
    },
    {
      "metadata": {
        "id": "uQMiy5NwR568",
        "colab_type": "code",
        "colab": {}
      },
      "cell_type": "code",
      "source": [
        "from sklearn import tree\n",
        "modelTree = tree.DecisionTreeClassifier(random_state=17)\n",
        "modelTree = modelTree.fit(x_train, y_train)"
      ],
      "execution_count": 0,
      "outputs": []
    },
    {
      "metadata": {
        "id": "8Ymfn9XUYKWg",
        "colab_type": "code",
        "colab": {}
      },
      "cell_type": "code",
      "source": [
        "data_test = data[variables[1:]]\n",
        "data_test = shuffle(data_test, n_samples=20000, random_state=17)\n",
        "X_test = data_test.iloc[:,1:tmp]\n",
        "x_test = X_test.values\n",
        "y_test = data_test.Classe"
      ],
      "execution_count": 0,
      "outputs": []
    },
    {
      "metadata": {
        "id": "w17kjF-bZQvW",
        "colab_type": "code",
        "outputId": "15eefbe2-9152-4117-baec-19f634bbbbef",
        "colab": {
          "base_uri": "https://localhost:8080/",
          "height": 156
        }
      },
      "cell_type": "code",
      "source": [
        "print(\"KNN Accuracy: %0.2f\" % (modelKNN.score(x_test,y_test)), end=\"    \")\n",
        "print(\"Tree Accuracy: %0.2f\" % (modelTree.score(x_test,y_test)))\n",
        "\n",
        "for i in range(1,8):\n",
        "  data_classe_i = data[data.Classe==int(i)]\n",
        "\n",
        "  data_classe_i = shuffle(data_classe_i, n_samples=2000, random_state=17)\n",
        "  data_classe_i = data_classe_i[variables[1:]]\n",
        "  X_test_i = data_classe_i.iloc[:,1:tmp]\n",
        "  x_test_i = X_test_i.values\n",
        "  y_test_i = data_classe_i.Classe\n",
        "  print(\"Classe %d KNN Accuracy: %0.2f\" % (i, modelKNN.score(x_test_i,y_test_i)), end=\"    \")\n",
        "  print(\"Classe %d Tree Accuracy: %0.2f\" % (i, modelTree.score(x_test_i,y_test_i)))"
      ],
      "execution_count": 10,
      "outputs": [
        {
          "output_type": "stream",
          "text": [
            "KNN Accuracy: 0.76    Tree Accuracy: 0.81\n",
            "Classe 1 KNN Accuracy: 0.78    Classe 1 Tree Accuracy: 0.79\n",
            "Classe 2 KNN Accuracy: 0.75    Classe 2 Tree Accuracy: 0.80\n",
            "Classe 3 KNN Accuracy: 0.67    Classe 3 Tree Accuracy: 0.81\n",
            "Classe 4 KNN Accuracy: 0.76    Classe 4 Tree Accuracy: 0.90\n",
            "Classe 5 KNN Accuracy: 0.86    Classe 5 Tree Accuracy: 0.83\n",
            "Classe 6 KNN Accuracy: 0.78    Classe 6 Tree Accuracy: 0.86\n",
            "Classe 7 KNN Accuracy: 0.83    Classe 7 Tree Accuracy: 0.83\n"
          ],
          "name": "stdout"
        }
      ]
    },
    {
      "metadata": {
        "id": "6r3saJ0Uda1s",
        "colab_type": "code",
        "colab": {}
      },
      "cell_type": "code",
      "source": [
        "tree.export_graphviz(modelTree, out_file='tree.dot', max_depth=2)   \n",
        "from google.colab import files\n",
        "from os import system\n",
        "system(\"dot -Tpng tree.dot -o tree.png\")\n",
        "files.download('tree.png')"
      ],
      "execution_count": 0,
      "outputs": []
    },
    {
      "metadata": {
        "id": "wNkmZoidt8Ws",
        "colab_type": "code",
        "colab": {
          "base_uri": "https://localhost:8080/",
          "height": 34
        },
        "outputId": "5200c7a9-67ec-463d-d536-9863ccac6f57"
      },
      "cell_type": "code",
      "source": [
        "variables[3]"
      ],
      "execution_count": 12,
      "outputs": [
        {
          "output_type": "execute_result",
          "data": {
            "text/plain": [
              "'Pente'"
            ]
          },
          "metadata": {
            "tags": []
          },
          "execution_count": 12
        }
      ]
    }
  ]
}